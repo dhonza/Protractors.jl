{
 "cells": [
  {
   "cell_type": "code",
   "execution_count": 1,
   "metadata": {},
   "outputs": [],
   "source": [
    "using Pkg\n",
    "using Luxor"
   ]
  },
  {
   "cell_type": "markdown",
   "metadata": {},
   "source": [
    "# Large"
   ]
  },
  {
   "cell_type": "code",
   "execution_count": 6,
   "metadata": {},
   "outputs": [
    {
     "name": "stdout",
     "output_type": "stream",
     "text": [
      "depth = 42.35563716909474\n"
     ]
    },
    {
     "data": {
      "text/plain": [
       "1641.7101907529704"
      ]
     },
     "execution_count": 6,
     "metadata": {},
     "output_type": "execute_result"
    }
   ],
   "source": [
    "# define chair\n",
    "\n",
    "front = 39.5\n",
    "back = 32.5\n",
    "side = 42.5\n",
    "depth = sqrt(side^2 - ((front-back)/2)^2)\n",
    "p1, p2 = Point.([-front/2, front/2], -depth/2)\n",
    "diameter = 2*distance(O, p1)\n",
    "@show depth\n",
    "\n",
    "front = 39.5cm\n",
    "back = 32.5cm\n",
    "side = 42.5cm\n",
    "depth = sqrt(side^2 - ((front-back)/2)^2)\n",
    "p1, p2 = Point.([-front/2, front/2], -depth/2)\n",
    "p3, p4 = Point.([back/2, -back/2], depth/2)\n",
    "t3, t4 = Point.([front/2, -front/2], depth/2)\n",
    "diameter = 2*distance(O, p1)"
   ]
  },
  {
   "cell_type": "code",
   "execution_count": 7,
   "metadata": {},
   "outputs": [
    {
     "data": {
      "text/plain": [
       "1641.7101907529704"
      ]
     },
     "execution_count": 7,
     "metadata": {},
     "output_type": "execute_result"
    }
   ],
   "source": [
    "diameter"
   ]
  },
  {
   "cell_type": "code",
   "execution_count": 8,
   "metadata": {},
   "outputs": [
    {
     "data": {
      "text/plain": []
     },
     "execution_count": 8,
     "metadata": {},
     "output_type": "execute_result"
    }
   ],
   "source": [
    "# Drawing(diameter+1cm, diameter+1cm, \"chair.pdf\")\n",
    "Drawing(distance(p1, p2)+1cm, distance(p2, t3)+1cm, \"chair.pdf\")\n",
    "origin()\n",
    "background(\"white\")\n",
    "sethue(\"black\")\n",
    "\n",
    "#     line(p1, p2, :stroke)\n",
    "#     line(p3, p4, :stroke)\n",
    "    poly([p1, p2, p3, p4], :stroke; close=true)\n",
    "    poly([p1, p2, t3, t4], :stroke; close=true)\n",
    "    circle(O, 2, :fill)\n",
    "#     circle(O, distance(O, p1), :stroke)\n",
    "    line(midpoint(p1,p2), midpoint(t3, t4), :stroke)\n",
    "finish()\n",
    "preview()"
   ]
  },
  {
   "cell_type": "code",
   "execution_count": 9,
   "metadata": {},
   "outputs": [
    {
     "data": {
      "text/plain": []
     },
     "execution_count": 9,
     "metadata": {},
     "output_type": "execute_result"
    }
   ],
   "source": [
    "Drawing(diameter+2.5cm, diameter+2.5cm, \"protractor.pdf\")\n",
    "origin()\n",
    "background(\"white\")\n",
    "sethue(\"black\")\n",
    "fontsize(1cm)\n",
    "R = diameter/2\n",
    "for r in 0.1R:0.1R:R\n",
    "    circle(O, r, :stroke)\n",
    "end\n",
    "for θ in 0:5:355\n",
    "    line(O, Point(0, R), :stroke)\n",
    "    label(\"$θ\", :S, Point(0, R))\n",
    "    rotate(2π/72)\n",
    "end\n",
    "\n",
    "finish()\n",
    "preview()"
   ]
  },
  {
   "cell_type": "markdown",
   "metadata": {},
   "source": [
    "# Small"
   ]
  },
  {
   "cell_type": "code",
   "execution_count": 21,
   "metadata": {},
   "outputs": [
    {
     "data": {
      "text/plain": []
     },
     "execution_count": 21,
     "metadata": {},
     "output_type": "execute_result"
    }
   ],
   "source": [
    "function small_protractor(diameter, pad=2cm)\n",
    "    Drawing(diameter+pad, diameter+pad, \"protractor_small.pdf\")\n",
    "    origin()\n",
    "    background(\"white\")\n",
    "    sethue(\"black\")\n",
    "    R = diameter/2\n",
    "#     for r in 0.1R:0.1R:R\n",
    "#         circle(O, r, :stroke)\n",
    "#     end\n",
    "    circle(O, R, :stroke)\n",
    "    for θ in 0:5:355\n",
    "        line(Point(0, 0.2R), Point(0, R), :stroke)\n",
    "        if θ % 10 == 0\n",
    "            fontsize(diameter/40)\n",
    "        else\n",
    "            fontsize(diameter/60)\n",
    "        end\n",
    "        label(\"$θ\", :S, Point(0, R))\n",
    "        rotate(2π/72)\n",
    "    end\n",
    "\n",
    "    setline(0.5)\n",
    "    setdash(\"dotted\")\n",
    "    circle(O, 1.08R, :stroke)\n",
    "\n",
    "    finish()\n",
    "    preview()\n",
    "end\n",
    "small_protractor(14cm)"
   ]
  },
  {
   "cell_type": "markdown",
   "metadata": {},
   "source": [
    "# Optical Rotary Encoder"
   ]
  },
  {
   "cell_type": "code",
   "execution_count": 14,
   "metadata": {},
   "outputs": [
    {
     "data": {
      "text/plain": []
     },
     "execution_count": 14,
     "metadata": {},
     "output_type": "execute_result"
    }
   ],
   "source": [
    "function small_protractor(name, diameter, interval=1.0, pad=0.2cm, inner=1.05, outer=0.75)\n",
    "    Drawing(diameter+pad, diameter+pad, name)\n",
    "    origin()\n",
    "    background(\"white\")\n",
    "    \n",
    "    R = diameter/2\n",
    "    \n",
    "    sethue(\"black\")\n",
    "    for (i, deg) in enumerate(0:2interval:360-interval)\n",
    "        sector(outer*R, R, deg2rad(deg-interval/2), deg2rad(deg + interval/2), :fill)\n",
    "    end\n",
    "    \n",
    "    setline(0.5)\n",
    "    line(Point(-inner*R, 0), Point(inner*R, 0), :stroke)\n",
    "    line(Point(0, -inner*R), Point(0, inner*R), :stroke)\n",
    "    \n",
    "    finish()\n",
    "    preview()\n",
    "end\n",
    "small_protractor(\"optical_rotary_encoder.pdf\", 27cm)"
   ]
  },
  {
   "cell_type": "code",
   "execution_count": 15,
   "metadata": {},
   "outputs": [
    {
     "data": {
      "text/plain": []
     },
     "execution_count": 15,
     "metadata": {},
     "output_type": "execute_result"
    }
   ],
   "source": [
    "small_protractor(\"optical_rotary_encoder_half.pdf\", 27cm, 0.5)"
   ]
  },
  {
   "cell_type": "markdown",
   "metadata": {},
   "source": [
    "Print using Acrobat Reader as a poster: no cut marks and no labels."
   ]
  }
 ],
 "metadata": {
  "kernelspec": {
   "display_name": "Julia 1.5.2",
   "language": "julia",
   "name": "julia-1.5"
  },
  "language_info": {
   "file_extension": ".jl",
   "mimetype": "application/julia",
   "name": "julia",
   "version": "1.5.2"
  }
 },
 "nbformat": 4,
 "nbformat_minor": 4
}
